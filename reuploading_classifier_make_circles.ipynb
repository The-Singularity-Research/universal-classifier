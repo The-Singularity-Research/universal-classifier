{
 "cells": [
  {
   "cell_type": "code",
   "execution_count": 1,
   "metadata": {},
   "outputs": [
    {
     "name": "stdout",
     "output_type": "stream",
     "text": [
      "Requirement already up-to-date: pennylane in /Users/amelieschreiber/anaconda3/lib/python3.7/site-packages (0.7.0)\n",
      "Requirement already satisfied, skipping upgrade: autograd in /Users/amelieschreiber/anaconda3/lib/python3.7/site-packages (from pennylane) (1.3)\n",
      "Requirement already satisfied, skipping upgrade: appdirs in /Users/amelieschreiber/anaconda3/lib/python3.7/site-packages (from pennylane) (1.4.3)\n",
      "Requirement already satisfied, skipping upgrade: networkx in /Users/amelieschreiber/anaconda3/lib/python3.7/site-packages (from pennylane) (2.3)\n",
      "Requirement already satisfied, skipping upgrade: toml in /Users/amelieschreiber/anaconda3/lib/python3.7/site-packages (from pennylane) (0.10.0)\n",
      "Requirement already satisfied, skipping upgrade: scipy in /Users/amelieschreiber/anaconda3/lib/python3.7/site-packages (from pennylane) (1.3.0)\n",
      "Requirement already satisfied, skipping upgrade: semantic-version==2.6 in /Users/amelieschreiber/anaconda3/lib/python3.7/site-packages (from pennylane) (2.6.0)\n",
      "Requirement already satisfied, skipping upgrade: numpy in /Users/amelieschreiber/anaconda3/lib/python3.7/site-packages (from pennylane) (1.16.4)\n",
      "Requirement already satisfied, skipping upgrade: future>=0.15.2 in /Users/amelieschreiber/anaconda3/lib/python3.7/site-packages (from autograd->pennylane) (0.17.1)\n",
      "Requirement already satisfied, skipping upgrade: decorator>=4.3.0 in /Users/amelieschreiber/anaconda3/lib/python3.7/site-packages (from networkx->pennylane) (4.4.0)\n",
      "Note: you may need to restart the kernel to use updated packages.\n"
     ]
    }
   ],
   "source": [
    "pip install pennylane --upgrade"
   ]
  },
  {
   "cell_type": "code",
   "execution_count": 2,
   "metadata": {},
   "outputs": [
    {
     "name": "stdout",
     "output_type": "stream",
     "text": [
      "Requirement already satisfied: pennylane-sf in /Users/amelieschreiber/anaconda3/lib/python3.7/site-packages (0.6.0)\n",
      "Requirement already satisfied: pennylane-qiskit in /Users/amelieschreiber/anaconda3/lib/python3.7/site-packages (0.7.1)\n",
      "Requirement already satisfied: pennylane-cirq in /Users/amelieschreiber/anaconda3/lib/python3.7/site-packages (0.2.0)\n",
      "Requirement already satisfied: pennylane-forest in /Users/amelieschreiber/anaconda3/lib/python3.7/site-packages (0.6.0)\n",
      "Requirement already satisfied: pennylane-qsharp in /Users/amelieschreiber/anaconda3/lib/python3.7/site-packages (0.6.0)\n",
      "Requirement already satisfied: strawberryfields>=0.11 in /Users/amelieschreiber/anaconda3/lib/python3.7/site-packages (from pennylane-sf) (0.11.2)\n",
      "Requirement already satisfied: pennylane>=0.6 in /Users/amelieschreiber/anaconda3/lib/python3.7/site-packages (from pennylane-sf) (0.7.0)\n",
      "Requirement already satisfied: qiskit>=0.12 in /Users/amelieschreiber/anaconda3/lib/python3.7/site-packages (from pennylane-qiskit) (0.13.0)\n",
      "Requirement already satisfied: numpy in /Users/amelieschreiber/anaconda3/lib/python3.7/site-packages (from pennylane-qiskit) (1.16.4)\n",
      "Requirement already satisfied: cirq in /Users/amelieschreiber/anaconda3/lib/python3.7/site-packages (from pennylane-cirq) (0.6.0)\n",
      "Requirement already satisfied: pyquil>=2.7 in /Users/amelieschreiber/anaconda3/lib/python3.7/site-packages (from pennylane-forest) (2.14.0)\n",
      "Requirement already satisfied: qsharp in /Users/amelieschreiber/anaconda3/lib/python3.7/site-packages (from pennylane-qsharp) (0.10.1912.501)\n",
      "Requirement already satisfied: toml in /Users/amelieschreiber/anaconda3/lib/python3.7/site-packages (from strawberryfields>=0.11->pennylane-sf) (0.10.0)\n",
      "Requirement already satisfied: quantum-blackbird>=0.2.0 in /Users/amelieschreiber/anaconda3/lib/python3.7/site-packages (from strawberryfields>=0.11->pennylane-sf) (0.2.1)\n",
      "Requirement already satisfied: thewalrus>=0.7 in /Users/amelieschreiber/anaconda3/lib/python3.7/site-packages (from strawberryfields>=0.11->pennylane-sf) (0.9.0)\n",
      "Requirement already satisfied: scipy>=1.0.0 in /Users/amelieschreiber/anaconda3/lib/python3.7/site-packages (from strawberryfields>=0.11->pennylane-sf) (1.3.0)\n",
      "Requirement already satisfied: networkx>=2.0 in /Users/amelieschreiber/anaconda3/lib/python3.7/site-packages (from strawberryfields>=0.11->pennylane-sf) (2.3)\n",
      "Requirement already satisfied: appdirs in /Users/amelieschreiber/anaconda3/lib/python3.7/site-packages (from strawberryfields>=0.11->pennylane-sf) (1.4.3)\n",
      "Requirement already satisfied: semantic-version==2.6 in /Users/amelieschreiber/anaconda3/lib/python3.7/site-packages (from pennylane>=0.6->pennylane-sf) (2.6.0)\n",
      "Requirement already satisfied: autograd in /Users/amelieschreiber/anaconda3/lib/python3.7/site-packages (from pennylane>=0.6->pennylane-sf) (1.3)\n",
      "Requirement already satisfied: qiskit-ignis==0.2.0 in /Users/amelieschreiber/anaconda3/lib/python3.7/site-packages (from qiskit>=0.12->pennylane-qiskit) (0.2.0)\n",
      "Requirement already satisfied: qiskit-ibmq-provider==0.3.3 in /Users/amelieschreiber/anaconda3/lib/python3.7/site-packages (from qiskit>=0.12->pennylane-qiskit) (0.3.3)\n",
      "Requirement already satisfied: qiskit-aer==0.3.2 in /Users/amelieschreiber/anaconda3/lib/python3.7/site-packages (from qiskit>=0.12->pennylane-qiskit) (0.3.2)\n",
      "Requirement already satisfied: qiskit-terra==0.10.0 in /Users/amelieschreiber/anaconda3/lib/python3.7/site-packages (from qiskit>=0.12->pennylane-qiskit) (0.10.0)\n",
      "Requirement already satisfied: qiskit-aqua==0.6.1 in /Users/amelieschreiber/anaconda3/lib/python3.7/site-packages (from qiskit>=0.12->pennylane-qiskit) (0.6.1)\n",
      "Requirement already satisfied: matplotlib~=3.0 in /Users/amelieschreiber/anaconda3/lib/python3.7/site-packages (from cirq->pennylane-cirq) (3.1.0)\n",
      "Requirement already satisfied: google-api-python-client~=1.6 in /Users/amelieschreiber/anaconda3/lib/python3.7/site-packages (from cirq->pennylane-cirq) (1.7.11)\n",
      "Requirement already satisfied: sympy in /Users/amelieschreiber/anaconda3/lib/python3.7/site-packages (from cirq->pennylane-cirq) (1.4)\n",
      "Requirement already satisfied: typing-extensions in /Users/amelieschreiber/anaconda3/lib/python3.7/site-packages (from cirq->pennylane-cirq) (3.7.4.1)\n",
      "Requirement already satisfied: requests~=2.18 in /Users/amelieschreiber/anaconda3/lib/python3.7/site-packages (from cirq->pennylane-cirq) (2.22.0)\n",
      "Requirement already satisfied: pandas in /Users/amelieschreiber/anaconda3/lib/python3.7/site-packages (from cirq->pennylane-cirq) (0.24.2)\n",
      "Requirement already satisfied: sortedcontainers~=2.0 in /Users/amelieschreiber/anaconda3/lib/python3.7/site-packages (from cirq->pennylane-cirq) (2.1.0)\n",
      "Requirement already satisfied: protobuf==3.8.0 in /Users/amelieschreiber/anaconda3/lib/python3.7/site-packages (from cirq->pennylane-cirq) (3.8.0)\n",
      "Requirement already satisfied: immutables==0.6 in /Users/amelieschreiber/anaconda3/lib/python3.7/site-packages (from pyquil>=2.7->pennylane-forest) (0.6)\n",
      "Requirement already satisfied: rpcq>=2.7.2 in /Users/amelieschreiber/anaconda3/lib/python3.7/site-packages (from pyquil>=2.7->pennylane-forest) (3.0.0)\n",
      "Requirement already satisfied: antlr4-python3-runtime in /Users/amelieschreiber/anaconda3/lib/python3.7/site-packages (from pyquil>=2.7->pennylane-forest) (4.7.2)\n",
      "Requirement already satisfied: jupyter-client in /Users/amelieschreiber/anaconda3/lib/python3.7/site-packages (from qsharp->pennylane-qsharp) (5.3.1)\n",
      "Requirement already satisfied: decorator>=4.3.0 in /Users/amelieschreiber/anaconda3/lib/python3.7/site-packages (from networkx>=2.0->strawberryfields>=0.11->pennylane-sf) (4.4.0)\n",
      "Requirement already satisfied: future>=0.15.2 in /Users/amelieschreiber/anaconda3/lib/python3.7/site-packages (from autograd->pennylane>=0.6->pennylane-sf) (0.17.1)\n",
      "Requirement already satisfied: setuptools>=40.1.0 in /Users/amelieschreiber/anaconda3/lib/python3.7/site-packages (from qiskit-ignis==0.2.0->qiskit>=0.12->pennylane-qiskit) (41.0.1)\n",
      "Requirement already satisfied: websockets<8,>=7 in /Users/amelieschreiber/anaconda3/lib/python3.7/site-packages (from qiskit-ibmq-provider==0.3.3->qiskit>=0.12->pennylane-qiskit) (7.0)\n",
      "Requirement already satisfied: requests-ntlm>=1.1.0 in /Users/amelieschreiber/anaconda3/lib/python3.7/site-packages (from qiskit-ibmq-provider==0.3.3->qiskit>=0.12->pennylane-qiskit) (1.1.0)\n",
      "Requirement already satisfied: nest-asyncio==1.0.0 in /Users/amelieschreiber/anaconda3/lib/python3.7/site-packages (from qiskit-ibmq-provider==0.3.3->qiskit>=0.12->pennylane-qiskit) (1.0.0)\n",
      "Requirement already satisfied: ply>=3.10 in /Users/amelieschreiber/anaconda3/lib/python3.7/site-packages (from qiskit-terra==0.10.0->qiskit>=0.12->pennylane-qiskit) (3.11)\n",
      "Requirement already satisfied: jsonschema>=2.6 in /Users/amelieschreiber/anaconda3/lib/python3.7/site-packages (from qiskit-terra==0.10.0->qiskit>=0.12->pennylane-qiskit) (3.0.1)\n",
      "Requirement already satisfied: psutil>=5 in /Users/amelieschreiber/anaconda3/lib/python3.7/site-packages (from qiskit-terra==0.10.0->qiskit>=0.12->pennylane-qiskit) (5.6.3)\n",
      "Requirement already satisfied: marshmallow<4,>=3 in /Users/amelieschreiber/anaconda3/lib/python3.7/site-packages (from qiskit-terra==0.10.0->qiskit>=0.12->pennylane-qiskit) (3.3.0)\n",
      "Requirement already satisfied: marshmallow-polyfield<6,>=5.7 in /Users/amelieschreiber/anaconda3/lib/python3.7/site-packages (from qiskit-terra==0.10.0->qiskit>=0.12->pennylane-qiskit) (5.7)\n",
      "Requirement already satisfied: dlx in /Users/amelieschreiber/anaconda3/lib/python3.7/site-packages (from qiskit-aqua==0.6.1->qiskit>=0.12->pennylane-qiskit) (1.0.4)\n",
      "Requirement already satisfied: docplex in /Users/amelieschreiber/anaconda3/lib/python3.7/site-packages (from qiskit-aqua==0.6.1->qiskit>=0.12->pennylane-qiskit) (2.11.176)\n",
      "Requirement already satisfied: cvxopt in /Users/amelieschreiber/anaconda3/lib/python3.7/site-packages (from qiskit-aqua==0.6.1->qiskit>=0.12->pennylane-qiskit) (1.2.3)\n",
      "Requirement already satisfied: fastdtw in /Users/amelieschreiber/anaconda3/lib/python3.7/site-packages (from qiskit-aqua==0.6.1->qiskit>=0.12->pennylane-qiskit) (0.3.4)\n",
      "Requirement already satisfied: h5py in /Users/amelieschreiber/anaconda3/lib/python3.7/site-packages (from qiskit-aqua==0.6.1->qiskit>=0.12->pennylane-qiskit) (2.9.0)\n",
      "Requirement already satisfied: scikit-learn>=0.20.0 in /Users/amelieschreiber/anaconda3/lib/python3.7/site-packages (from qiskit-aqua==0.6.1->qiskit>=0.12->pennylane-qiskit) (0.22)\n",
      "Requirement already satisfied: quandl in /Users/amelieschreiber/anaconda3/lib/python3.7/site-packages (from qiskit-aqua==0.6.1->qiskit>=0.12->pennylane-qiskit) (3.4.8)\n",
      "Requirement already satisfied: pyscf; sys_platform != \"win32\" in /Users/amelieschreiber/anaconda3/lib/python3.7/site-packages (from qiskit-aqua==0.6.1->qiskit>=0.12->pennylane-qiskit) (1.6.5)\n",
      "Requirement already satisfied: cycler>=0.10 in /Users/amelieschreiber/anaconda3/lib/python3.7/site-packages (from matplotlib~=3.0->cirq->pennylane-cirq) (0.10.0)\n",
      "Requirement already satisfied: kiwisolver>=1.0.1 in /Users/amelieschreiber/anaconda3/lib/python3.7/site-packages (from matplotlib~=3.0->cirq->pennylane-cirq) (1.1.0)\n",
      "Requirement already satisfied: pyparsing!=2.0.4,!=2.1.2,!=2.1.6,>=2.0.1 in /Users/amelieschreiber/anaconda3/lib/python3.7/site-packages (from matplotlib~=3.0->cirq->pennylane-cirq) (2.4.0)\n",
      "Requirement already satisfied: python-dateutil>=2.1 in /Users/amelieschreiber/anaconda3/lib/python3.7/site-packages (from matplotlib~=3.0->cirq->pennylane-cirq) (2.8.0)\n",
      "Requirement already satisfied: google-auth>=1.4.1 in /Users/amelieschreiber/anaconda3/lib/python3.7/site-packages (from google-api-python-client~=1.6->cirq->pennylane-cirq) (1.7.2)\n",
      "Requirement already satisfied: google-auth-httplib2>=0.0.3 in /Users/amelieschreiber/anaconda3/lib/python3.7/site-packages (from google-api-python-client~=1.6->cirq->pennylane-cirq) (0.0.3)\n",
      "Requirement already satisfied: httplib2<1dev,>=0.9.2 in /Users/amelieschreiber/anaconda3/lib/python3.7/site-packages (from google-api-python-client~=1.6->cirq->pennylane-cirq) (0.14.0)\n",
      "Requirement already satisfied: uritemplate<4dev,>=3.0.0 in /Users/amelieschreiber/anaconda3/lib/python3.7/site-packages (from google-api-python-client~=1.6->cirq->pennylane-cirq) (3.0.0)\n",
      "Requirement already satisfied: six<2dev,>=1.6.1 in /Users/amelieschreiber/anaconda3/lib/python3.7/site-packages (from google-api-python-client~=1.6->cirq->pennylane-cirq) (1.12.0)\n",
      "Requirement already satisfied: mpmath>=0.19 in /Users/amelieschreiber/anaconda3/lib/python3.7/site-packages (from sympy->cirq->pennylane-cirq) (1.1.0)\n",
      "Requirement already satisfied: idna<2.9,>=2.5 in /Users/amelieschreiber/anaconda3/lib/python3.7/site-packages (from requests~=2.18->cirq->pennylane-cirq) (2.8)\n",
      "Requirement already satisfied: chardet<3.1.0,>=3.0.2 in /Users/amelieschreiber/anaconda3/lib/python3.7/site-packages (from requests~=2.18->cirq->pennylane-cirq) (3.0.4)\n",
      "Requirement already satisfied: urllib3!=1.25.0,!=1.25.1,<1.26,>=1.21.1 in /Users/amelieschreiber/anaconda3/lib/python3.7/site-packages (from requests~=2.18->cirq->pennylane-cirq) (1.24.2)\n",
      "Requirement already satisfied: certifi>=2017.4.17 in /Users/amelieschreiber/anaconda3/lib/python3.7/site-packages (from requests~=2.18->cirq->pennylane-cirq) (2019.6.16)\n",
      "Requirement already satisfied: pytz>=2011k in /Users/amelieschreiber/anaconda3/lib/python3.7/site-packages (from pandas->cirq->pennylane-cirq) (2019.1)\n",
      "Requirement already satisfied: msgpack>=0.6 in /Users/amelieschreiber/anaconda3/lib/python3.7/site-packages (from rpcq>=2.7.2->pyquil>=2.7->pennylane-forest) (0.6.1)\n",
      "Requirement already satisfied: ruamel.yaml in /Users/amelieschreiber/anaconda3/lib/python3.7/site-packages (from rpcq>=2.7.2->pyquil>=2.7->pennylane-forest) (0.16.5)\n",
      "Requirement already satisfied: python-rapidjson in /Users/amelieschreiber/anaconda3/lib/python3.7/site-packages (from rpcq>=2.7.2->pyquil>=2.7->pennylane-forest) (0.9.1)\n",
      "Requirement already satisfied: pyzmq>=17 in /Users/amelieschreiber/anaconda3/lib/python3.7/site-packages (from rpcq>=2.7.2->pyquil>=2.7->pennylane-forest) (18.0.0)\n",
      "Requirement already satisfied: traitlets in /Users/amelieschreiber/anaconda3/lib/python3.7/site-packages (from jupyter-client->qsharp->pennylane-qsharp) (4.3.2)\n",
      "Requirement already satisfied: jupyter-core in /Users/amelieschreiber/anaconda3/lib/python3.7/site-packages (from jupyter-client->qsharp->pennylane-qsharp) (4.5.0)\n",
      "Requirement already satisfied: tornado>=4.1 in /Users/amelieschreiber/anaconda3/lib/python3.7/site-packages (from jupyter-client->qsharp->pennylane-qsharp) (6.0.3)\n",
      "Requirement already satisfied: cryptography>=1.3 in /Users/amelieschreiber/anaconda3/lib/python3.7/site-packages (from requests-ntlm>=1.1.0->qiskit-ibmq-provider==0.3.3->qiskit>=0.12->pennylane-qiskit) (2.7)\n",
      "Requirement already satisfied: ntlm-auth>=1.0.2 in /Users/amelieschreiber/anaconda3/lib/python3.7/site-packages (from requests-ntlm>=1.1.0->qiskit-ibmq-provider==0.3.3->qiskit>=0.12->pennylane-qiskit) (1.4.0)\n",
      "Requirement already satisfied: attrs>=17.4.0 in /Users/amelieschreiber/anaconda3/lib/python3.7/site-packages (from jsonschema>=2.6->qiskit-terra==0.10.0->qiskit>=0.12->pennylane-qiskit) (19.1.0)\n",
      "Requirement already satisfied: pyrsistent>=0.14.0 in /Users/amelieschreiber/anaconda3/lib/python3.7/site-packages (from jsonschema>=2.6->qiskit-terra==0.10.0->qiskit>=0.12->pennylane-qiskit) (0.14.11)\n",
      "Requirement already satisfied: docloud>=1.0.375 in /Users/amelieschreiber/anaconda3/lib/python3.7/site-packages (from docplex->qiskit-aqua==0.6.1->qiskit>=0.12->pennylane-qiskit) (1.0.375)\n",
      "Requirement already satisfied: joblib>=0.11 in /Users/amelieschreiber/anaconda3/lib/python3.7/site-packages (from scikit-learn>=0.20.0->qiskit-aqua==0.6.1->qiskit>=0.12->pennylane-qiskit) (0.13.2)\n",
      "Requirement already satisfied: more-itertools<=5.0.0 in /Users/amelieschreiber/anaconda3/lib/python3.7/site-packages (from quandl->qiskit-aqua==0.6.1->qiskit>=0.12->pennylane-qiskit) (5.0.0)\n",
      "Requirement already satisfied: inflection>=0.3.1 in /Users/amelieschreiber/anaconda3/lib/python3.7/site-packages (from quandl->qiskit-aqua==0.6.1->qiskit>=0.12->pennylane-qiskit) (0.3.1)\n",
      "Requirement already satisfied: pyasn1 in /Users/amelieschreiber/anaconda3/lib/python3.7/site-packages (from quandl->qiskit-aqua==0.6.1->qiskit>=0.12->pennylane-qiskit) (0.4.8)\n",
      "Requirement already satisfied: pyOpenSSL in /Users/amelieschreiber/anaconda3/lib/python3.7/site-packages (from quandl->qiskit-aqua==0.6.1->qiskit>=0.12->pennylane-qiskit) (19.0.0)\n",
      "Requirement already satisfied: ndg-httpsclient in /Users/amelieschreiber/anaconda3/lib/python3.7/site-packages (from quandl->qiskit-aqua==0.6.1->qiskit>=0.12->pennylane-qiskit) (0.5.1)\n",
      "Requirement already satisfied: rsa<4.1,>=3.1.4 in /Users/amelieschreiber/anaconda3/lib/python3.7/site-packages (from google-auth>=1.4.1->google-api-python-client~=1.6->cirq->pennylane-cirq) (4.0)\n",
      "Requirement already satisfied: pyasn1-modules>=0.2.1 in /Users/amelieschreiber/anaconda3/lib/python3.7/site-packages (from google-auth>=1.4.1->google-api-python-client~=1.6->cirq->pennylane-cirq) (0.2.7)\n",
      "Requirement already satisfied: cachetools<3.2,>=2.0.0 in /Users/amelieschreiber/anaconda3/lib/python3.7/site-packages (from google-auth>=1.4.1->google-api-python-client~=1.6->cirq->pennylane-cirq) (3.1.1)\n",
      "Requirement already satisfied: ruamel.yaml.clib>=0.1.2; platform_python_implementation == \"CPython\" and python_version < \"3.8\" in /Users/amelieschreiber/anaconda3/lib/python3.7/site-packages (from ruamel.yaml->rpcq>=2.7.2->pyquil>=2.7->pennylane-forest) (0.2.0)\n",
      "Requirement already satisfied: ipython-genutils in /Users/amelieschreiber/anaconda3/lib/python3.7/site-packages (from traitlets->jupyter-client->qsharp->pennylane-qsharp) (0.2.0)\n",
      "Requirement already satisfied: cffi!=1.11.3,>=1.8 in /Users/amelieschreiber/anaconda3/lib/python3.7/site-packages (from cryptography>=1.3->requests-ntlm>=1.1.0->qiskit-ibmq-provider==0.3.3->qiskit>=0.12->pennylane-qiskit) (1.12.3)\n",
      "Requirement already satisfied: asn1crypto>=0.21.0 in /Users/amelieschreiber/anaconda3/lib/python3.7/site-packages (from cryptography>=1.3->requests-ntlm>=1.1.0->qiskit-ibmq-provider==0.3.3->qiskit>=0.12->pennylane-qiskit) (0.24.0)\n",
      "Requirement already satisfied: pycparser in /Users/amelieschreiber/anaconda3/lib/python3.7/site-packages (from cffi!=1.11.3,>=1.8->cryptography>=1.3->requests-ntlm>=1.1.0->qiskit-ibmq-provider==0.3.3->qiskit>=0.12->pennylane-qiskit) (2.19)\n",
      "Note: you may need to restart the kernel to use updated packages.\n"
     ]
    }
   ],
   "source": [
    "pip install pennylane-sf pennylane-qiskit pennylane-cirq pennylane-forest pennylane-qsharp"
   ]
  },
  {
   "cell_type": "code",
   "execution_count": 3,
   "metadata": {},
   "outputs": [
    {
     "name": "stdout",
     "output_type": "stream",
     "text": [
      "Note: you may need to restart the kernel to use updated packages.\n"
     ]
    }
   ],
   "source": [
    "pip install autograd tensorflow>=1.13.2"
   ]
  },
  {
   "cell_type": "code",
   "execution_count": 4,
   "metadata": {},
   "outputs": [
    {
     "name": "stdout",
     "output_type": "stream",
     "text": [
      "Requirement already up-to-date: scikit-learn in /Users/amelieschreiber/anaconda3/lib/python3.7/site-packages (0.22)\n",
      "Requirement already satisfied, skipping upgrade: numpy>=1.11.0 in /Users/amelieschreiber/anaconda3/lib/python3.7/site-packages (from scikit-learn) (1.16.4)\n",
      "Requirement already satisfied, skipping upgrade: scipy>=0.17.0 in /Users/amelieschreiber/anaconda3/lib/python3.7/site-packages (from scikit-learn) (1.3.0)\n",
      "Requirement already satisfied, skipping upgrade: joblib>=0.11 in /Users/amelieschreiber/anaconda3/lib/python3.7/site-packages (from scikit-learn) (0.13.2)\n",
      "Note: you may need to restart the kernel to use updated packages.\n"
     ]
    }
   ],
   "source": [
    "pip install -U scikit-learn"
   ]
  },
  {
   "cell_type": "code",
   "execution_count": 5,
   "metadata": {},
   "outputs": [],
   "source": [
    "import pennylane as qml\n",
    "from pennylane import numpy as np\n",
    "from pennylane.optimize import AdamOptimizer, GradientDescentOptimizer"
   ]
  },
  {
   "cell_type": "code",
   "execution_count": 6,
   "metadata": {},
   "outputs": [],
   "source": [
    "from sklearn.datasets import make_circles\n",
    "from matplotlib import pyplot\n",
    "from pandas import DataFrame"
   ]
  },
  {
   "cell_type": "code",
   "execution_count": 7,
   "metadata": {},
   "outputs": [
    {
     "data": {
      "image/png": "[encoded data removed]",
      "text/plain": [
       "<Figure size 288x288 with 1 Axes>"
      ]
     },
     "metadata": {
      "needs_background": "light"
     },
     "output_type": "display_data"
    }
   ],
   "source": [
    "def plot_data(x, y, fig=None, ax=None):\n",
    "    \"\"\"\n",
    "    Plot data with red/blue values for a binary classification.\n",
    "\n",
    "    Args:\n",
    "        x (array[tuple]): array of data points as tuples\n",
    "        y (array[int]): array of data points as tuples\n",
    "    \"\"\"\n",
    "    if fig == None:\n",
    "        fig, ax = plt.subplots(1, 1, figsize=(5, 5))\n",
    "    reds = y == 0\n",
    "    blues = y == 1\n",
    "    ax.scatter(x[reds, 0], x[reds, 1], c=\"red\", s=20, edgecolor=\"k\")\n",
    "    ax.scatter(x[blues, 0], x[blues, 1], c=\"blue\", s=20, edgecolor=\"k\")\n",
    "    ax.set_xlabel(\"$x_1$\")\n",
    "    ax.set_ylabel(\"$x_2$\")\n",
    "\n",
    "\n",
    "Xdata, ydata = make_circles(500, noise = 0.1)\n",
    "fig, ax = pyplot.subplots(1, 1, figsize=(4, 4))\n",
    "plot_data(Xdata, ydata, fig=fig, ax=ax)\n",
    "pyplot.show()"
   ]
  },
  {
   "cell_type": "code",
   "execution_count": 8,
   "metadata": {},
   "outputs": [],
   "source": [
    "# Define output labels as quantum state vectors\n",
    "def density_matrix(state):\n",
    "    \"\"\"Calculates the density matrix representation of a state.\n",
    "\n",
    "    Args:\n",
    "        state (array[complex]): array representing a quantum state vector\n",
    "\n",
    "    Returns:\n",
    "        dm: (array[complex]): array representing the density matrix\n",
    "    \"\"\"\n",
    "    return state * np.conj(state).T\n",
    "\n",
    "\n",
    "label_0 = [[1], [0]]\n",
    "label_1 = [[0], [1]]\n",
    "state_labels = [label_0, label_1]"
   ]
  },
  {
   "cell_type": "code",
   "execution_count": 9,
   "metadata": {},
   "outputs": [],
   "source": [
    "dev = qml.device(\"default.qubit\", wires=1)"
   ]
  },
  {
   "cell_type": "code",
   "execution_count": 10,
   "metadata": {},
   "outputs": [],
   "source": [
    "@qml.qnode(dev)\n",
    "def qcircuit(params, x=None, y=None):\n",
    "    \"\"\"A variational quantum circuit representing the Universal classifier.\n",
    "\n",
    "    Args:\n",
    "        params (array[float]): array of parameters\n",
    "        x (array[float]): single input vector\n",
    "        y (array[float]): single output state density matrix\n",
    "\n",
    "    Returns:\n",
    "        float: fidelity between output state and input\n",
    "    \"\"\"\n",
    "    for p in params:\n",
    "        qml.Rot(*x, wires=0)\n",
    "        qml.Rot(*p, wires=0)\n",
    "    return qml.expval(qml.Hermitian(y, wires=[0]))"
   ]
  },
  {
   "cell_type": "code",
   "execution_count": 11,
   "metadata": {},
   "outputs": [],
   "source": [
    "def fidelity(state1, state2):\n",
    "    \"\"\"\n",
    "    Calculates the fidelity between two state vectors\n",
    "\n",
    "    Args:\n",
    "        state1 (array[float]): State vector representation\n",
    "        state2 (array[float]): State vector representation\n",
    "\n",
    "    Returns:\n",
    "        float: fidelity between `state1` and `state2`\n",
    "    \"\"\"\n",
    "    return np.abs(np.dot(np.conj(state1), state2))"
   ]
  },
  {
   "cell_type": "code",
   "execution_count": 12,
   "metadata": {},
   "outputs": [],
   "source": [
    "def cost(params, x, y, state_labels=None):\n",
    "    \"\"\"Cost function to be minimized.\n",
    "\n",
    "    Args:\n",
    "        params (array[float]): array of parameters\n",
    "        x (array[float]): 2-d array of input vectors\n",
    "        y (array[float]): 1-d array of targets\n",
    "        state_labels (array[float]): array of state representations for labels\n",
    "\n",
    "    Returns:\n",
    "        float: loss value to be minimized\n",
    "    \"\"\"\n",
    "    # Compute prediction for each input in data batch\n",
    "    loss = 0.0\n",
    "    dm_labels = [density_matrix(s) for s in state_labels]\n",
    "    for i in range(len(x)):\n",
    "        f = qcircuit(params, x=x[i], y=dm_labels[y[i]])\n",
    "        loss = loss + (1 - f) ** 2\n",
    "    return loss / len(x)"
   ]
  },
  {
   "cell_type": "code",
   "execution_count": 13,
   "metadata": {},
   "outputs": [],
   "source": [
    "def test(params, x, y, state_labels=None):\n",
    "    \"\"\"\n",
    "    Tests on a given set of data.\n",
    "\n",
    "    Args:\n",
    "        params (array[float]): array of parameters\n",
    "        x (array[float]): 2-d array of input vectors\n",
    "        y (array[float]): 1-d array of targets\n",
    "        state_labels (array[float]): 1-d array of state representations for labels\n",
    "\n",
    "    Returns:\n",
    "        predicted (array([int]): predicted labels for test data\n",
    "        output_states (array[float]): output quantum states from the circuit\n",
    "    \"\"\"\n",
    "    fidelity_values = []\n",
    "    output_states = []\n",
    "    dm_labels = [density_matrix(s) for s in state_labels]\n",
    "    for i in range(len(x)):\n",
    "        expectation = qcircuit(params, x=x[i], y=dm_labels[y[i]])\n",
    "        output_states.append(dev._state)\n",
    "    predicted = predicted_labels(output_states, state_labels)\n",
    "    return predicted, output_states"
   ]
  },
  {
   "cell_type": "code",
   "execution_count": 14,
   "metadata": {},
   "outputs": [],
   "source": [
    "def predicted_labels(states, state_labels=None):\n",
    "    \"\"\"\n",
    "    Computes the label of the predicted state by selecting the one\n",
    "    with maximum fidelity.\n",
    "\n",
    "    Args:\n",
    "        weights (array[float]): array of weights\n",
    "        x (array[float]): 2-d array of input vectors\n",
    "        y (array[float]): 1-d array of targets\n",
    "        state_labels (array[float]): 1-d array of state representations for labels\n",
    "\n",
    "    Returns:\n",
    "        float: loss value to be minimized\n",
    "    \"\"\"\n",
    "    output_labels = [np.argmax([fidelity(s, label) for label in state_labels]) for s in states]\n",
    "    return np.array(output_labels)"
   ]
  },
  {
   "cell_type": "code",
   "execution_count": 15,
   "metadata": {},
   "outputs": [],
   "source": [
    "def accuracy_score(y_true, y_pred):\n",
    "    \"\"\"Accuracy score.\n",
    "\n",
    "    Args:\n",
    "        y_true (array[float]): 1-d array of targets\n",
    "        y_predicted (array[float]): 1-d array of predictions\n",
    "        state_labels (array[float]): 1-d array of state representations for labels\n",
    "\n",
    "    Returns:\n",
    "        score (float): the fraction of correctly classified samples\n",
    "    \"\"\"\n",
    "    score = y_true == y_pred\n",
    "    return score.sum() / len(y_true)"
   ]
  },
  {
   "cell_type": "code",
   "execution_count": 16,
   "metadata": {},
   "outputs": [],
   "source": [
    "def iterate_minibatches(inputs, targets, batch_size):\n",
    "    \"\"\"\n",
    "    A generator for batches of the input data\n",
    "\n",
    "    Args:\n",
    "        inputs (array[float]): input data\n",
    "        targets (array[float]): targets\n",
    "\n",
    "    Returns:\n",
    "        inputs (array[float]): one batch of input data of length `batch_size`\n",
    "        targets (array[float]): one batch of targets of length `batch_size`\n",
    "    \"\"\"\n",
    "    for start_idx in range(0, inputs.shape[0] - batch_size + 1, batch_size):\n",
    "        idxs = slice(start_idx, start_idx + batch_size)\n",
    "        yield inputs[idxs], targets[idxs]"
   ]
  },
  {
   "cell_type": "markdown",
   "metadata": {},
   "source": [
    "## Generate Training Data"
   ]
  },
  {
   "cell_type": "code",
   "execution_count": 17,
   "metadata": {},
   "outputs": [],
   "source": [
    "# Generate training and test data\n",
    "num_training = 200\n",
    "num_test = 2000\n",
    "\n",
    "Xdata, y_train = make_circles(num_training, noise=0.1)\n",
    "X_train = np.hstack((Xdata, np.zeros((Xdata.shape[0], 1))))\n",
    "\n",
    "Xtest, y_test = make_circles(num_test, noise=0.1)\n",
    "X_test = np.hstack((Xtest, np.zeros((Xtest.shape[0], 1))))"
   ]
  },
  {
   "cell_type": "code",
   "execution_count": 18,
   "metadata": {},
   "outputs": [
    {
     "name": "stdout",
     "output_type": "stream",
     "text": [
      "Epoch:  0 | Cost: 0.340412 | Train accuracy: 0.495000 | Test Accuracy: 0.477500\n",
      "Epoch:  1 | Loss: 0.229654 | Train accuracy: 0.640000 | Test accuracy: 0.624000\n",
      "Epoch:  2 | Loss: 0.238909 | Train accuracy: 0.505000 | Test accuracy: 0.522500\n",
      "Epoch:  3 | Loss: 0.206822 | Train accuracy: 0.705000 | Test accuracy: 0.684500\n",
      "Epoch:  4 | Loss: 0.203184 | Train accuracy: 0.730000 | Test accuracy: 0.725000\n",
      "Epoch:  5 | Loss: 0.196530 | Train accuracy: 0.735000 | Test accuracy: 0.696500\n",
      "Epoch:  6 | Loss: 0.191560 | Train accuracy: 0.765000 | Test accuracy: 0.749500\n",
      "Epoch:  7 | Loss: 0.190580 | Train accuracy: 0.750000 | Test accuracy: 0.758000\n",
      "Epoch:  8 | Loss: 0.190322 | Train accuracy: 0.765000 | Test accuracy: 0.743000\n",
      "Epoch:  9 | Loss: 0.189334 | Train accuracy: 0.775000 | Test accuracy: 0.748500\n",
      "Epoch: 10 | Loss: 0.187678 | Train accuracy: 0.780000 | Test accuracy: 0.762000\n",
      "Epoch: 11 | Loss: 0.187354 | Train accuracy: 0.775000 | Test accuracy: 0.761500\n",
      "Epoch: 12 | Loss: 0.187098 | Train accuracy: 0.780000 | Test accuracy: 0.752000\n",
      "Epoch: 13 | Loss: 0.186487 | Train accuracy: 0.780000 | Test accuracy: 0.752500\n",
      "Epoch: 14 | Loss: 0.185849 | Train accuracy: 0.790000 | Test accuracy: 0.759500\n",
      "Epoch: 15 | Loss: 0.185618 | Train accuracy: 0.795000 | Test accuracy: 0.761500\n",
      "Epoch: 16 | Loss: 0.185548 | Train accuracy: 0.795000 | Test accuracy: 0.760000\n",
      "Epoch: 17 | Loss: 0.185316 | Train accuracy: 0.795000 | Test accuracy: 0.758000\n",
      "Epoch: 18 | Loss: 0.185064 | Train accuracy: 0.780000 | Test accuracy: 0.758000\n",
      "Epoch: 19 | Loss: 0.184874 | Train accuracy: 0.780000 | Test accuracy: 0.756500\n",
      "Epoch: 20 | Loss: 0.184670 | Train accuracy: 0.775000 | Test accuracy: 0.754500\n"
     ]
    }
   ],
   "source": [
    "# Train using Adam optimizer and evaluate the classifier\n",
    "num_layers = 3\n",
    "learning_rate = 0.6\n",
    "epochs = 20\n",
    "batch_size = 32\n",
    "\n",
    "opt = AdamOptimizer(learning_rate, beta1=0.9, beta2=0.999)\n",
    "\n",
    "# initialize random weights\n",
    "params = np.random.uniform(size=(num_layers, 3))\n",
    "\n",
    "predicted_train, states_train = test(params, X_train, y_train, state_labels)\n",
    "accuracy_train = accuracy_score(y_train, predicted_train)\n",
    "\n",
    "predicted_test, states_test = test(params, X_test, y_test, state_labels)\n",
    "accuracy_test = accuracy_score(y_test, predicted_test)\n",
    "\n",
    "# save predictions with random weights for comparison\n",
    "initial_predictions = predicted_test\n",
    "\n",
    "loss = cost(params, X_test, y_test, state_labels)\n",
    "\n",
    "print(\n",
    "    \"Epoch: {:2d} | Cost: {:3f} | Train accuracy: {:3f} | Test Accuracy: {:3f}\".format(\n",
    "        0, loss, accuracy_train, accuracy_test\n",
    "    )\n",
    ")\n",
    "\n",
    "for it in range(epochs):\n",
    "    for Xbatch, ybatch in iterate_minibatches(X_train, y_train, batch_size=batch_size):\n",
    "        params = opt.step(lambda v: cost(v, Xbatch, ybatch, state_labels), params)\n",
    "\n",
    "    predicted_train, states_train = test(params, X_train, y_train, state_labels)\n",
    "    accuracy_train = accuracy_score(y_train, predicted_train)\n",
    "    loss = cost(params, X_train, y_train, state_labels)\n",
    "\n",
    "    predicted_test, states_test = test(params, X_test, y_test, state_labels)\n",
    "    accuracy_test = accuracy_score(y_test, predicted_test)\n",
    "    res = [it + 1, loss, accuracy_train, accuracy_test]\n",
    "    print(\"Epoch: {:2d} | Loss: {:3f} | Train accuracy: {:3f} | Test accuracy: {:3f}\".format(*res))"
   ]
  },
  {
   "cell_type": "code",
   "execution_count": 19,
   "metadata": {},
   "outputs": [
    {
     "name": "stdout",
     "output_type": "stream",
     "text": [
      "Cost: 0.184670 | Train accuracy 0.775000 | Test Accuracy : 0.754500\n",
      "Learned weights\n",
      "Layer 0: [0.51557137 1.39723515 1.00636142]\n",
      "Layer 1: [-2.09468987  0.5746774   0.06656046]\n",
      "Layer 2: [1.01856613 1.51443312 0.4979247 ]\n"
     ]
    },
    {
     "data": {
      "image/png": "[encoded data removed]",
      "text/plain": [
       "<Figure size 720x216 with 3 Axes>"
      ]
     },
     "metadata": {
      "needs_background": "light"
     },
     "output_type": "display_data"
    }
   ],
   "source": [
    "print(\n",
    "    \"Cost: {:3f} | Train accuracy {:3f} | Test Accuracy : {:3f}\".format(\n",
    "        loss, accuracy_train, accuracy_test\n",
    "    )\n",
    ")\n",
    "\n",
    "print(\"Learned weights\")\n",
    "for i in range(num_layers):\n",
    "    print(\"Layer {}: {}\".format(i, params[i]))\n",
    "\n",
    "\n",
    "fig, axes = pyplot.subplots(1, 3, figsize=(10, 3))\n",
    "plot_data(X_test, initial_predictions, fig, axes[0])\n",
    "plot_data(X_test, predicted_test, fig, axes[1])\n",
    "plot_data(X_test, y_test, fig, axes[2])\n",
    "axes[0].set_title(\"Predictions with random weights\")\n",
    "axes[1].set_title(\"Predictions after training\")\n",
    "axes[2].set_title(\"True test data\")\n",
    "pyplot.show()"
   ]
  },
  {
   "cell_type": "code",
   "execution_count": null,
   "metadata": {},
   "outputs": [],
   "source": []
  }
 ],
 "metadata": {
  "kernelspec": {
   "display_name": "Python 3",
   "language": "python",
   "name": "python3"
  },
  "language_info": {
   "codemirror_mode": {
    "name": "ipython",
    "version": 3
   },
   "file_extension": ".py",
   "mimetype": "text/x-python",
   "name": "python",
   "nbconvert_exporter": "python",
   "pygments_lexer": "ipython3",
   "version": "3.7.3"
  }
 },
 "nbformat": 4,
 "nbformat_minor": 4
}
